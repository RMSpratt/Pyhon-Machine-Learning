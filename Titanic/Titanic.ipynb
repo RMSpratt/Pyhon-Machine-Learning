{
 "cells": [
  {
   "cell_type": "code",
   "execution_count": 14,
   "id": "2abdb199",
   "metadata": {},
   "outputs": [],
   "source": [
    "#SECTION 0: DATA PREPARATION\n",
    "\n",
    "#Import base libraries for this task\n",
    "import pandas as pd\n",
    "import numpy as np\n",
    "import os\n",
    "import matplotlib.pyplot as plt"
   ]
  },
  {
   "cell_type": "code",
   "execution_count": 15,
   "id": "43a8fdd0",
   "metadata": {},
   "outputs": [],
   "source": [
    "#Import libraries for testing and validation\n",
    "from sklearn.model_selection import train_test_split\n",
    "from sklearn.model_selection import cross_val_predict\n",
    "from sklearn.model_selection import cross_val_score\n",
    "from sklearn.model_selection import GridSearchCV\n",
    "from sklearn.metrics import accuracy_score\n",
    "\n",
    "from sklearn.metrics import confusion_matrix\n",
    "from sklearn.metrics import precision_score\n",
    "from sklearn.metrics import recall_score"
   ]
  },
  {
   "cell_type": "markdown",
   "id": "56d86827",
   "metadata": {},
   "source": [
    "## SECTION 1: Data Preparation & Cleaning"
   ]
  },
  {
   "cell_type": "markdown",
   "id": "db3d68e5",
   "metadata": {},
   "source": [
    "### Summary of Preparations Below\n",
    "\n",
    "To properly clean the dataset for use in various models I perform the following transformations:\n",
    "\n",
    "- Dropping Unused Attributes\n",
    "- Feature Scaling\n",
    "- Separating Labels from Remaining Attributes\n",
    "- Encoding Categorical Values with OneHotEncoding\n",
    "- Imputing missing values\n"
   ]
  },
  {
   "cell_type": "code",
   "execution_count": 3,
   "id": "9aa2c8e2",
   "metadata": {},
   "outputs": [
    {
     "data": {
      "text/html": [
       "<div>\n",
       "<style scoped>\n",
       "    .dataframe tbody tr th:only-of-type {\n",
       "        vertical-align: middle;\n",
       "    }\n",
       "\n",
       "    .dataframe tbody tr th {\n",
       "        vertical-align: top;\n",
       "    }\n",
       "\n",
       "    .dataframe thead th {\n",
       "        text-align: right;\n",
       "    }\n",
       "</style>\n",
       "<table border=\"1\" class=\"dataframe\">\n",
       "  <thead>\n",
       "    <tr style=\"text-align: right;\">\n",
       "      <th></th>\n",
       "      <th>PassengerId</th>\n",
       "      <th>Survived</th>\n",
       "      <th>Pclass</th>\n",
       "      <th>Name</th>\n",
       "      <th>Sex</th>\n",
       "      <th>Age</th>\n",
       "      <th>SibSp</th>\n",
       "      <th>Parch</th>\n",
       "      <th>Ticket</th>\n",
       "      <th>Fare</th>\n",
       "      <th>Cabin</th>\n",
       "      <th>Embarked</th>\n",
       "    </tr>\n",
       "  </thead>\n",
       "  <tbody>\n",
       "    <tr>\n",
       "      <th>0</th>\n",
       "      <td>1</td>\n",
       "      <td>0</td>\n",
       "      <td>3</td>\n",
       "      <td>Braund, Mr. Owen Harris</td>\n",
       "      <td>male</td>\n",
       "      <td>22.0</td>\n",
       "      <td>1</td>\n",
       "      <td>0</td>\n",
       "      <td>A/5 21171</td>\n",
       "      <td>7.2500</td>\n",
       "      <td>NaN</td>\n",
       "      <td>S</td>\n",
       "    </tr>\n",
       "    <tr>\n",
       "      <th>1</th>\n",
       "      <td>2</td>\n",
       "      <td>1</td>\n",
       "      <td>1</td>\n",
       "      <td>Cumings, Mrs. John Bradley (Florence Briggs Th...</td>\n",
       "      <td>female</td>\n",
       "      <td>38.0</td>\n",
       "      <td>1</td>\n",
       "      <td>0</td>\n",
       "      <td>PC 17599</td>\n",
       "      <td>71.2833</td>\n",
       "      <td>C85</td>\n",
       "      <td>C</td>\n",
       "    </tr>\n",
       "    <tr>\n",
       "      <th>2</th>\n",
       "      <td>3</td>\n",
       "      <td>1</td>\n",
       "      <td>3</td>\n",
       "      <td>Heikkinen, Miss. Laina</td>\n",
       "      <td>female</td>\n",
       "      <td>26.0</td>\n",
       "      <td>0</td>\n",
       "      <td>0</td>\n",
       "      <td>STON/O2. 3101282</td>\n",
       "      <td>7.9250</td>\n",
       "      <td>NaN</td>\n",
       "      <td>S</td>\n",
       "    </tr>\n",
       "    <tr>\n",
       "      <th>3</th>\n",
       "      <td>4</td>\n",
       "      <td>1</td>\n",
       "      <td>1</td>\n",
       "      <td>Futrelle, Mrs. Jacques Heath (Lily May Peel)</td>\n",
       "      <td>female</td>\n",
       "      <td>35.0</td>\n",
       "      <td>1</td>\n",
       "      <td>0</td>\n",
       "      <td>113803</td>\n",
       "      <td>53.1000</td>\n",
       "      <td>C123</td>\n",
       "      <td>S</td>\n",
       "    </tr>\n",
       "    <tr>\n",
       "      <th>4</th>\n",
       "      <td>5</td>\n",
       "      <td>0</td>\n",
       "      <td>3</td>\n",
       "      <td>Allen, Mr. William Henry</td>\n",
       "      <td>male</td>\n",
       "      <td>35.0</td>\n",
       "      <td>0</td>\n",
       "      <td>0</td>\n",
       "      <td>373450</td>\n",
       "      <td>8.0500</td>\n",
       "      <td>NaN</td>\n",
       "      <td>S</td>\n",
       "    </tr>\n",
       "  </tbody>\n",
       "</table>\n",
       "</div>"
      ],
      "text/plain": [
       "   PassengerId  Survived  Pclass  \\\n",
       "0            1         0       3   \n",
       "1            2         1       1   \n",
       "2            3         1       3   \n",
       "3            4         1       1   \n",
       "4            5         0       3   \n",
       "\n",
       "                                                Name     Sex   Age  SibSp  \\\n",
       "0                            Braund, Mr. Owen Harris    male  22.0      1   \n",
       "1  Cumings, Mrs. John Bradley (Florence Briggs Th...  female  38.0      1   \n",
       "2                             Heikkinen, Miss. Laina  female  26.0      0   \n",
       "3       Futrelle, Mrs. Jacques Heath (Lily May Peel)  female  35.0      1   \n",
       "4                           Allen, Mr. William Henry    male  35.0      0   \n",
       "\n",
       "   Parch            Ticket     Fare Cabin Embarked  \n",
       "0      0         A/5 21171   7.2500   NaN        S  \n",
       "1      0          PC 17599  71.2833   C85        C  \n",
       "2      0  STON/O2. 3101282   7.9250   NaN        S  \n",
       "3      0            113803  53.1000  C123        S  \n",
       "4      0            373450   8.0500   NaN        S  "
      ]
     },
     "execution_count": 3,
     "metadata": {},
     "output_type": "execute_result"
    }
   ],
   "source": [
    "titanic_copy = pd.read_csv('./datasets/train.csv')\n",
    "titanic_copy.head()"
   ]
  },
  {
   "cell_type": "code",
   "execution_count": 4,
   "id": "deec622a",
   "metadata": {},
   "outputs": [],
   "source": [
    "#Read in the full set of training data\n",
    "titanic_full = pd.read_csv('./datasets/train.csv')\n",
    "\n",
    "#Remove the two missing Embarked rows\n",
    "titanic_full = titanic_full[titanic_full.Embarked.notnull()]\n",
    "\n",
    "#Split the full training dataset into a training subset and test set\n",
    "titanic_train, titanic_test = train_test_split(titanic_full, \n",
    "                            test_size=0.2, random_state=10)"
   ]
  },
  {
   "cell_type": "code",
   "execution_count": 5,
   "id": "fc365aed",
   "metadata": {},
   "outputs": [
    {
     "name": "stdout",
     "output_type": "stream",
     "text": [
      "<class 'pandas.core.frame.DataFrame'>\n",
      "Int64Index: 711 entries, 57 to 266\n",
      "Data columns (total 9 columns):\n",
      " #   Column    Non-Null Count  Dtype  \n",
      "---  ------    --------------  -----  \n",
      " 0   Survived  711 non-null    int64  \n",
      " 1   Pclass    711 non-null    int64  \n",
      " 2   Sex       711 non-null    object \n",
      " 3   Age       577 non-null    float64\n",
      " 4   SibSp     711 non-null    int64  \n",
      " 5   Parch     711 non-null    int64  \n",
      " 6   Fare      711 non-null    float64\n",
      " 7   Cabin     160 non-null    object \n",
      " 8   Embarked  711 non-null    object \n",
      "dtypes: float64(2), int64(4), object(3)\n",
      "memory usage: 55.5+ KB\n"
     ]
    }
   ],
   "source": [
    "#Create copies of the data to be cleaned\n",
    "titanic_train_cleaned = titanic_train.copy()\n",
    "titanic_test_cleaned = titanic_test.copy()\n",
    "\n",
    "#Drop the attributes that won't be used for pedictions\n",
    "titanic_train_cleaned = titanic_train_cleaned.drop(['Name', 'PassengerId', 'Ticket'], axis=1)\n",
    "titanic_test_cleaned = titanic_test_cleaned.drop(['Name', 'PassengerId', 'Ticket'], axis=1)\n",
    "\n",
    "titanic_train_cleaned.info()"
   ]
  },
  {
   "cell_type": "code",
   "execution_count": 6,
   "id": "6e4b6dba",
   "metadata": {},
   "outputs": [],
   "source": [
    "#Map cabin values s.t. not having a cabin == 0 (False) and having a cabin == 1 (True)\n",
    "titanic_train_cleaned['Cabin']= np.where(titanic_train_cleaned['Cabin'].isnull(), 0, 1)\n",
    "titanic_test_cleaned['Cabin']= np.where(titanic_test_cleaned['Cabin'].isnull(), 0, 1)"
   ]
  },
  {
   "cell_type": "markdown",
   "id": "337c0b4d",
   "metadata": {},
   "source": [
    "### Correlation\n",
    "\n",
    "Due to the high correlation of the cabin attribute and whether or not someone survived,\n",
    "I decided to keep this attribute for model training.\n",
    "\n",
    "I did find that this attribute doesn't affect the test performance of the models by a considerable amount in most cases, but did improve classification for Naive-Bayes."
   ]
  },
  {
   "cell_type": "code",
   "execution_count": 35,
   "id": "f4fbde6e",
   "metadata": {},
   "outputs": [
    {
     "data": {
      "text/plain": [
       "Survived    1.000000\n",
       "Cabin       0.280849\n",
       "Fare        0.229058\n",
       "Parch       0.076900\n",
       "SibSp      -0.028415\n",
       "Age        -0.108210\n",
       "Pclass     -0.311321\n",
       "Name: Survived, dtype: float64"
      ]
     },
     "execution_count": 35,
     "metadata": {},
     "output_type": "execute_result"
    }
   ],
   "source": [
    "#Create a correlation matrix between some attributes and the 'Survived' target attribute\n",
    "corr_matrix = titanic_train_cleaned.corr()\n",
    "corr_matrix[\"Survived\"].sort_values(ascending=False)"
   ]
  },
  {
   "cell_type": "code",
   "execution_count": 56,
   "id": "5a467e84",
   "metadata": {},
   "outputs": [
    {
     "name": "stdout",
     "output_type": "stream",
     "text": [
      "Summary survival rates with and without a cabin:\n",
      "Out of 160 passengers with a cabin, 64.3750% survived.\n",
      "Out of 551 passengers without a cabin, 31.5789% survived.\n"
     ]
    }
   ],
   "source": [
    "#Divide the total set of passengers into subsets based on whether or not they survived\n",
    "#and whether or not they had a cabin\n",
    "survived_cabin = len(titanic_train_cleaned[(titanic_train_cleaned.Cabin == 1) &\n",
    "                                       (titanic_train_cleaned.Survived == 1)])\n",
    "\n",
    "died_cabin = len(titanic_train_cleaned[(titanic_train_cleaned.Cabin == 1) &\n",
    "                                       (titanic_train_cleaned.Survived == 0)])\n",
    "\n",
    "survived_cabinless = len(titanic_train_cleaned[(titanic_train_cleaned.Cabin == 0) &\n",
    "                                       (titanic_train_cleaned.Survived == 1)])\n",
    "\n",
    "died_cabinless = len(titanic_train_cleaned[(titanic_train_cleaned.Cabin == 0) & \n",
    "                                        (titanic_train_cleaned.Survived == 0)])\n",
    "\n",
    "\n",
    "total_cabin = survived_cabin + died_cabin\n",
    "total_cabinless = survived_cabinless + died_cabinless\n",
    "\n",
    "print(\"Summary survival rates with and without a cabin:\")\n",
    "print(\"Out of \" + str(total_cabin) + \" passengers with a cabin, \" + \"{:.4f}\".format((survived_cabin / total_cabin) * 100) + \"% survived.\")\n",
    "print(\"Out of \" + str(total_cabinless) + \" passengers without a cabin, \" + \"{:.4f}\".format((survived_cabinless / total_cabinless) * 100) + \"% survived.\")"
   ]
  },
  {
   "cell_type": "code",
   "execution_count": 77,
   "id": "488cdda7",
   "metadata": {},
   "outputs": [
    {
     "data": {
      "image/png": "[encoded data removed]",
      "text/plain": [
       "<Figure size 432x288 with 1 Axes>"
      ]
     },
     "metadata": {
      "needs_background": "light"
     },
     "output_type": "display_data"
    }
   ],
   "source": [
    "#Construct a Bar Graph \n",
    "labels = ['Survived', 'Died']\n",
    "survived_counts = [survived_cabin, survived_cabinless]\n",
    "died_counts = [died_cabin, died_cabinless]\n",
    "\n",
    "x = np.arange(2)\n",
    "bar_width = 0.4\n",
    "\n",
    "survived_bars = plt.bar(x - bar_width/2, survived_counts, bar_width, label='Cabin', color='green')\n",
    "died_bars = plt.bar(x + bar_width/2, died_counts, bar_width, label='Cabinless', color='gold')\n",
    "\n",
    "plt.title('Correlation of Cabin Values and Survived')\n",
    "plt.ylabel('Num Survived')\n",
    "plt.ylim(0,425)\n",
    "plt.xticks(x, labels)\n",
    "plt.legend()\n",
    "\n",
    "\n",
    "plt.bar_label(survived_bars, padding=2)\n",
    "plt.bar_label(died_bars, padding=2)\n",
    "plt.show()"
   ]
  },
  {
   "cell_type": "code",
   "execution_count": 36,
   "id": "c64b013c",
   "metadata": {},
   "outputs": [],
   "source": [
    "#Remove the labels from the training set\n",
    "train_labels = titanic_train_cleaned[\"Survived\"].copy()\n",
    "titanic_train_cleaned = titanic_train_cleaned.drop(\"Survived\", axis=1)\n",
    "\n",
    "#Remove the labels from the test set\n",
    "test_labels = titanic_test_cleaned[\"Survived\"].copy()\n",
    "titanic_test_cleaned = titanic_test_cleaned.drop(\"Survived\", axis=1)"
   ]
  },
  {
   "cell_type": "code",
   "execution_count": 37,
   "id": "0033f300",
   "metadata": {},
   "outputs": [],
   "source": [
    "from sklearn.compose import ColumnTransformer\n",
    "from sklearn.experimental import enable_iterative_imputer\n",
    "from sklearn.pipeline import Pipeline\n",
    "from sklearn.impute import SimpleImputer\n",
    "from sklearn.preprocessing import OneHotEncoder\n",
    "from sklearn.preprocessing import OrdinalEncoder\n",
    "from sklearn.preprocessing import MinMaxScaler\n",
    "\n",
    "#Get the full list of columns in the titanic training set\n",
    "full_attributes = titanic_train_cleaned.columns\n",
    "\n",
    "#Gather the attributes to be transformed\n",
    "num_attributes = ['Pclass', 'Age', 'SibSp', 'Parch', 'Fare']\n",
    "cat_attributes = ['Sex','Embarked','Cabin']\n",
    "\n",
    "#Create a pipeline to clean the numerical attributes\n",
    "#Missing age values will be imputed using the IterativeImputer\n",
    "#All numerical values will be scaled to have a similar scale\n",
    "num_pipeline = Pipeline([\n",
    "    ('imputer', SimpleImputer()),\n",
    "    ('scaler', MinMaxScaler())\n",
    "])\n",
    "\n",
    "#Create a full pipeline to clean the numerical and categorical attributes\n",
    "#Categoricial attribute values will be encoded without relationship (Non-Ordinal encoding)\n",
    "data_pipeline = ColumnTransformer([\n",
    "    ('num', num_pipeline, num_attributes),\n",
    "    ('cat', OneHotEncoder(), cat_attributes),\n",
    "], remainder='drop')\n"
   ]
  },
  {
   "cell_type": "code",
   "execution_count": 38,
   "id": "703a31b2",
   "metadata": {},
   "outputs": [],
   "source": [
    "#Apply the data cleaning transformations to the training and test data\n",
    "titanic_train_cleaned = data_pipeline.fit_transform(titanic_train_cleaned)\n",
    "titanic_test_cleaned = data_pipeline.fit_transform(titanic_test_cleaned)"
   ]
  },
  {
   "cell_type": "markdown",
   "id": "b7fe7d0c",
   "metadata": {},
   "source": [
    "----\n",
    "----\n",
    "## SECTION 2: Tree Models (Training & Testing)\n",
    "\n",
    "In this section I use various Tree model classifiers on the dataset. In-particular, I use:\n",
    "\n",
    "- A Decision Tree Classifier\n",
    "- A Random Forest Classifier\n",
    "- Gradient-Boosted Trees (for Classification)\n",
    "\n",
    "This section also introduces my use of hyperparameter tuning. This is done in an effort to get the best possible\n",
    "attributes for classification."
   ]
  },
  {
   "cell_type": "markdown",
   "id": "97e0dffb",
   "metadata": {},
   "source": [
    "### SECTION 2A: Decision Tree Model Training\n",
    "\n",
    "A basic Decision Tree Classifier is used here. \n",
    "\n",
    "For Hyperparameter tuning, I adjust:\n",
    "- max_features: The maximum number of features to consider for splitting\n",
    "- max_depth: The maximum allowable depth of the tree\n",
    "- splitter: Whether or not the attribute to split with should be the 'best' attribute or a 'random' one"
   ]
  },
  {
   "cell_type": "code",
   "execution_count": 87,
   "id": "fd01d506",
   "metadata": {},
   "outputs": [
    {
     "name": "stdout",
     "output_type": "stream",
     "text": [
      "Decision Tree Prediction Score: 0.759490\n"
     ]
    }
   ],
   "source": [
    "#Create a DecisionTree Classifier with default parameters\n",
    "from sklearn.tree import DecisionTreeClassifier\n",
    "tree_clf = DecisionTreeClassifier(random_state=10)\n",
    "tree_clf.fit(titanic_train_cleaned, train_labels)\n",
    "\n",
    "#Perform cross-validation on the training dataset\n",
    "tree_pred_score = cross_val_score(tree_clf, titanic_train_cleaned, train_labels, scoring=\"accuracy\").mean()\n",
    "print(\"Decision Tree Prediction Score: \" + \"{:.6f}\".format(tree_pred_score))"
   ]
  },
  {
   "cell_type": "code",
   "execution_count": 88,
   "id": "21b758d4",
   "metadata": {},
   "outputs": [
    {
     "name": "stdout",
     "output_type": "stream",
     "text": [
      "Best parameters found for the decision tree are:\n"
     ]
    },
    {
     "data": {
      "text/plain": [
       "{'max_depth': 6, 'max_features': 6, 'splitter': 'best'}"
      ]
     },
     "execution_count": 88,
     "metadata": {},
     "output_type": "execute_result"
    }
   ],
   "source": [
    "#Perform Grid-Search using the specified HyperParameters to find the best combination\n",
    "from sklearn.model_selection import GridSearchCV\n",
    "\n",
    "#Create the set of parameters to experiment with\n",
    "param_grid = [{'splitter': ['best', 'random'], 'max_features': [2,4,6], 'max_depth': [2, 4, 6]}]\n",
    "\n",
    "#Create the GridSearch Classifier and fit the data with each model created\n",
    "tree_grid_search = GridSearchCV(tree_clf, param_grid, cv=10, scoring='accuracy', return_train_score=True)\n",
    "tree_grid_search.fit(titanic_train_cleaned, train_labels)\n",
    "\n",
    "#Return the best set of parameters\n",
    "print(\"Best parameters found for the decision tree are:\")\n",
    "tree_grid_search.best_params_"
   ]
  },
  {
   "cell_type": "code",
   "execution_count": 89,
   "id": "31eb4a86",
   "metadata": {},
   "outputs": [
    {
     "name": "stdout",
     "output_type": "stream",
     "text": [
      "Tuned Decision Tree Validation Score: 0.808783\n"
     ]
    }
   ],
   "source": [
    "#Evaluate the performance of the best estimator using the parameters specified\n",
    "\n",
    "#Get the best estimator classifier from the GridSearch object\n",
    "tree_tuned_clf = tree_grid_search.best_estimator_\n",
    "\n",
    "#Get the best score produced\n",
    "tree_tuned_pred_score = tree_grid_search.best_score_\n",
    "\n",
    "print(\"Tuned Decision Tree Validation Score: \" + \"{:.6f}\".format(tree_tuned_pred_score))"
   ]
  },
  {
   "cell_type": "markdown",
   "id": "d36039c9",
   "metadata": {},
   "source": [
    "____\n",
    "### SECTION 2B: Random Forest Model Training\n",
    "\n",
    "A random forest classifier is used here.\n",
    "\n",
    "\n",
    "For hyperparameter tuning, I adjust:\n",
    "- n_estimators: The number of individual decision trees to use.\n",
    "- max_features: The maximum number of features to consider for splitting.\n",
    "- max_depth: The maximum allowable depth of the tree.\n",
    "- bootstrap: Whether or not to use bootstrapping (bagging) or paging for selecting samples."
   ]
  },
  {
   "cell_type": "code",
   "execution_count": 90,
   "id": "e68d4e54",
   "metadata": {},
   "outputs": [
    {
     "name": "stdout",
     "output_type": "stream",
     "text": [
      "Random Forest Validation Score: 0.800305\n"
     ]
    }
   ],
   "source": [
    "#Create a basic RandomForestClassifier with default parameters\n",
    "from sklearn.ensemble import RandomForestClassifier\n",
    "\n",
    "forest_clf = RandomForestClassifier(random_state=10)\n",
    "\n",
    "#Fit the model to the data and evaluate its accuracy\n",
    "forest_clf.fit(titanic_train_cleaned, train_labels)\n",
    "forest_pred_score = cross_val_score(forest_clf, titanic_train_cleaned, train_labels, scoring=\"accuracy\").mean()\n",
    "print(\"Random Forest Validation Score: \" + \"{:.6f}\".format(forest_pred_score))"
   ]
  },
  {
   "cell_type": "code",
   "execution_count": 91,
   "id": "4e6b3916",
   "metadata": {},
   "outputs": [
    {
     "name": "stdout",
     "output_type": "stream",
     "text": [
      "Best parameters found for the random forest are:\n"
     ]
    },
    {
     "data": {
      "text/plain": [
       "{'bootstrap': False, 'max_depth': 6, 'max_features': 2, 'n_estimators': 3}"
      ]
     },
     "execution_count": 91,
     "metadata": {},
     "output_type": "execute_result"
    }
   ],
   "source": [
    "#Perform Grid-Search using the specified HyperParameters to find the best combination\n",
    "\n",
    "#Create the sets of parameters\n",
    "param_grid = [\n",
    "    {'n_estimators': [3,10,30], 'max_features': [2,4,6], 'max_depth': [2, 4, 6]}, \n",
    "    {'bootstrap': [False], 'n_estimators': [3,10], 'max_features': [2,3,4], 'max_depth': [2, 4, 6]}\n",
    "]\n",
    "\n",
    "#Create the GridSearch Classifier and fit the data with each model created\n",
    "forest_grid_search = GridSearchCV(forest_clf, param_grid, cv=10, scoring='accuracy', \n",
    "                                  return_train_score=True)\n",
    "\n",
    "forest_grid_search.fit(titanic_train_cleaned, train_labels)\n",
    "\n",
    "#Return the best set of parameters\n",
    "print(\"Best parameters found for the random forest are:\")\n",
    "forest_grid_search.best_params_"
   ]
  },
  {
   "cell_type": "code",
   "execution_count": 92,
   "id": "827a4d29",
   "metadata": {},
   "outputs": [
    {
     "name": "stdout",
     "output_type": "stream",
     "text": [
      "Tuned Random Forest Validation Score: 0.825626\n"
     ]
    }
   ],
   "source": [
    "#Evaluate the performance of the best estimator using the parameters specified\n",
    "\n",
    "#Get the best estimator classifier from the GridSearch object\n",
    "forest_tuned_clf = forest_grid_search.best_estimator_\n",
    "\n",
    "forest_tuned_pred_score = forest_grid_search.best_score_\n",
    "\n",
    "print(\"Tuned Random Forest Validation Score: \" + \"{:.6f}\".format(forest_tuned_pred_score))"
   ]
  },
  {
   "cell_type": "markdown",
   "id": "8014740f",
   "metadata": {},
   "source": [
    "----\n",
    "### SECTION 2C: Boosting Methods Using Trees\n",
    "\n",
    "A gradient boosting tree classifier is used here."
   ]
  },
  {
   "cell_type": "code",
   "execution_count": 98,
   "id": "be3b8183",
   "metadata": {},
   "outputs": [
    {
     "name": "stdout",
     "output_type": "stream",
     "text": [
      "Gradient Boosting Tree Validation Score: 0.822762\n"
     ]
    }
   ],
   "source": [
    "#Create a classifier that uses regression trees in Gradient boosting for classification\n",
    "from sklearn.ensemble import GradientBoostingClassifier\n",
    "\n",
    "gb_tree_clf = GradientBoostingClassifier(random_state=10)\n",
    "gb_tree_clf.fit(titanic_train_cleaned, train_labels)\n",
    "\n",
    "gb_tree_pred_score = cross_val_score(gb_tree_clf, titanic_train_cleaned, train_labels, \n",
    "                            scoring=\"accuracy\").mean()\n",
    "\n",
    "print(\"Gradient Boosting Tree Validation Score: \" + \"{:.6f}\".format(gb_tree_pred_score))"
   ]
  },
  {
   "cell_type": "code",
   "execution_count": 99,
   "id": "b3820bd7",
   "metadata": {},
   "outputs": [
    {
     "name": "stdout",
     "output_type": "stream",
     "text": [
      "Summary Classification Validation Scores for Trees\n",
      "Decision Tree Score: 0.759490\n",
      "Tuned Decision Tree Score: 0.808783\n",
      "Random Forest Score: 0.800305\n",
      "Tuned Random Forest Score: 0.825626\n",
      "Gradient Boosting Tree Score: 0.822762\n"
     ]
    }
   ],
   "source": [
    "#Summary\n",
    "print(\"Summary Classification Validation Scores for Trees\")\n",
    "print(\"Decision Tree Score: \" + \"{:.6f}\".format(tree_pred_score))\n",
    "print(\"Tuned Decision Tree Score: \" + \"{:.6f}\".format(tree_tuned_pred_score))\n",
    "print(\"Random Forest Score: \" + \"{:.6f}\".format(forest_pred_score))\n",
    "print(\"Tuned Random Forest Score: \" + \"{:.6f}\".format(forest_tuned_pred_score))\n",
    "print(\"Gradient Boosting Tree Score: \" + \"{:.6f}\".format(gb_tree_pred_score))"
   ]
  },
  {
   "cell_type": "markdown",
   "id": "290f2bda",
   "metadata": {},
   "source": [
    "### Comparing Training & Validation Performance\n",
    "\n",
    "- The Decision Tree had the weakest performance.\n",
    "- The tuned Decision Tree had substantially better performance (Likely due to overfitting).\n",
    "- The Random Forest out-performed the decision tree.\n",
    "- The tuned Random Forest has substantially better performance (Likely due to overfitting).\n",
    "- The Gradient Boosted Tree has comparable performance to the tuned Random Forest.\n",
    "\n",
    "My assumptions for the tuned models with more generous features will have to be evaluated in the testing stage to come."
   ]
  },
  {
   "cell_type": "markdown",
   "id": "33321bf1",
   "metadata": {},
   "source": [
    "### Evaluating Confusion Metrics\n",
    "\n",
    "To get a better understanding of how samples are being misclassified, I computed the confusion matrix for a few of the Decision Tree classifiers."
   ]
  },
  {
   "cell_type": "code",
   "execution_count": 100,
   "id": "2be2f924",
   "metadata": {},
   "outputs": [
    {
     "name": "stdout",
     "output_type": "stream",
     "text": [
      "Tuned Decision Tree False Positives: 39/711\n",
      "Tuned Decision Tree False Negatives: 97/711\n",
      "\n",
      "Tuned Random Forest False Positives: 32/711\n",
      "Tuned Random Forest False Negatives: 92/711\n"
     ]
    }
   ],
   "source": [
    "#Get the number of correct and incorrect classifications using the DecisionTree and RandomForest classifiers\n",
    "tree_tuned_labels = cross_val_predict(tree_tuned_clf, titanic_train_cleaned, train_labels, cv=10)\n",
    "forest_tuned_labels = cross_val_predict(forest_tuned_clf, titanic_train_cleaned, train_labels, cv=10)\n",
    "\n",
    "#Compute the Confusion Matrix for each\n",
    "tree_conf_matrix = confusion_matrix(train_labels, tree_tuned_labels)\n",
    "forest_conf_matrix = confusion_matrix(train_labels, forest_tuned_labels) \n",
    "\n",
    "print(\"Tuned Decision Tree False Positives: \" + str(tree_conf_matrix[0][1]) + \"/\" + str(len(train_labels)))\n",
    "print(\"Tuned Decision Tree False Negatives: \" + str(tree_conf_matrix[1][0]) + \"/\" + str(len(train_labels)) + \"\\n\")\n",
    "\n",
    "print(\"Tuned Random Forest False Positives: \" + str(forest_conf_matrix[0][1]) + \"/\" + str(len(train_labels)))\n",
    "print(\"Tuned Random Forest False Negatives: \" + str(forest_conf_matrix[1][0]) + \"/\" + str(len(train_labels)))"
   ]
  },
  {
   "cell_type": "markdown",
   "id": "76bd5d69",
   "metadata": {},
   "source": [
    "### Interpreting the Confusion Metrics\n",
    "\n",
    "As can be seen in these metrics, both the tree and forest classifiers are heavily underestimating the actual number of survivors based on the input features. This can be slightly seen from earlier due to the negative correlation the selected features for evaluation had on the 'Survived' property. Namely, SibSp, Age, and Pclass."
   ]
  },
  {
   "cell_type": "markdown",
   "id": "1f9fb150",
   "metadata": {},
   "source": [
    "-------\n",
    "### SECTION 2D: Measuring Test Performance\n",
    "\n",
    "The test scores using all of the tree models established previously are evaluated here."
   ]
  },
  {
   "cell_type": "code",
   "execution_count": 101,
   "id": "f49a9962",
   "metadata": {},
   "outputs": [
    {
     "name": "stdout",
     "output_type": "stream",
     "text": [
      "Summary Test Classification Scores for Tree Models\n",
      "Decision Tree Score: 0.764127\n",
      "Tuned Decision Tree Score: 0.786508\n",
      "Random Forest Score: 0.792222\n",
      "Tuned Random Forest Score: 0.775556\n",
      "Gradient Boosting Tree Score: 0.792222\n"
     ]
    }
   ],
   "source": [
    "#TEST SET\n",
    "\n",
    "def getTestScore(model):\n",
    "    return cross_val_score(model, titanic_test_cleaned, test_labels, scoring=\"accuracy\").mean()\n",
    "    \n",
    "tree_test_score = getTestScore(tree_clf)\n",
    "tree_tuned_test_score = getTestScore(tree_tuned_clf)\n",
    "forest_test_score = getTestScore(forest_clf)\n",
    "forest_tuned_test_score = getTestScore(forest_tuned_clf)\n",
    "gb_test_score = getTestScore(gb_tree_clf)\n",
    "\n",
    "print(\"Summary Test Classification Scores for Tree Models\")\n",
    "print(\"Decision Tree Score: \" + \"{:.6f}\".format(tree_test_score))\n",
    "print(\"Tuned Decision Tree Score: \" + \"{:.6f}\".format(tree_tuned_test_score))\n",
    "print(\"Random Forest Score: \" + \"{:.6f}\".format(forest_test_score))\n",
    "print(\"Tuned Random Forest Score: \" + \"{:.6f}\".format(forest_tuned_test_score))\n",
    "print(\"Gradient Boosting Tree Score: \" + \"{:.6f}\".format(gb_test_score))"
   ]
  },
  {
   "cell_type": "markdown",
   "id": "35b56ad6",
   "metadata": {},
   "source": [
    "#### Reflections on Test Scores\n",
    "\n",
    "From the test scores here, all of the scores are lower than those found on the training set with the exception of the decision tree. This is likely due to the remaining models having more features to work with, allowing them to overfit the data. Gradient Boosting is especially prone to this, and had the biggest drop.\n",
    "\n",
    "In this regard, the original decision tree seemed to have better generalization capabilities, as its performance is slightly better than that found with the training data."
   ]
  },
  {
   "cell_type": "markdown",
   "id": "0ef36e8b",
   "metadata": {},
   "source": [
    "----\n",
    "----\n",
    "## SECTION 3: Naive Bayes (Training & Testing)\n",
    "\n",
    "In this section, the Gaussian Naive Bayes estimator for classification is evaluated in training and testing."
   ]
  },
  {
   "cell_type": "markdown",
   "id": "401efac0",
   "metadata": {},
   "source": [
    "### Section 3A: Naive Bayes Model Training"
   ]
  },
  {
   "cell_type": "code",
   "execution_count": 39,
   "id": "2b50001a",
   "metadata": {},
   "outputs": [
    {
     "name": "stdout",
     "output_type": "stream",
     "text": [
      "Gaussian Naive Bayes Score: 0.759470\n"
     ]
    }
   ],
   "source": [
    "from sklearn.naive_bayes import GaussianNB\n",
    "\n",
    "#Instantiate a Gaussian Naive-Bayes classifier and fit it to the data\n",
    "gaussian_nb_clf = GaussianNB()\n",
    "gaussian_nb_clf.fit(titanic_train_cleaned, train_labels)\n",
    "\n",
    "#Perform cross-validation to evaluate its predictions on the data\n",
    "gaussian_nb_pred_score = cross_val_score(gaussian_nb_clf, titanic_train_cleaned, train_labels, scoring=\"accuracy\").mean()\n",
    "print(\"Gaussian Naive Bayes Score: \" + \"{:.6f}\".format(gaussian_nb_pred_score))"
   ]
  },
  {
   "cell_type": "markdown",
   "id": "9134a668",
   "metadata": {},
   "source": [
    "---\n",
    "### Section 3B: Naive Bayes Test Performance"
   ]
  },
  {
   "cell_type": "code",
   "execution_count": 40,
   "id": "95418454",
   "metadata": {},
   "outputs": [
    {
     "name": "stdout",
     "output_type": "stream",
     "text": [
      "Gaussian Naive Bayes Test Score: 0.826190\n"
     ]
    }
   ],
   "source": [
    "#Evaluate the Estimator's prediction ability on the test set\n",
    "gaussian_nb_test_score = cross_val_score(gaussian_nb_clf, titanic_test_cleaned, test_labels, scoring=\"accuracy\").mean()\n",
    "print(\"Gaussian Naive Bayes Test Score: \" + \"{:.6f}\".format(gaussian_nb_test_score))"
   ]
  },
  {
   "cell_type": "markdown",
   "id": "df3285ca",
   "metadata": {},
   "source": [
    "### Reflections on Performance\n",
    "\n",
    "Interestingly enough, the test perfomance score is significantly higher than the validation score in training. My best guess for what's happening here is that Naive Bayes is better at predicting the test data due to its smaller size."
   ]
  },
  {
   "cell_type": "markdown",
   "id": "4b6ed1f1",
   "metadata": {},
   "source": [
    "____\n",
    "____\n",
    "## Section 4: Neural Network (Training & Testing)\n",
    "\n",
    "This section uses a small deep neural network for predicting on the dataset.\n",
    "\n",
    "A neural network with randomly selected parameters is evaluated first before experimenting with hyperparameter\n",
    "fine tuning to try and get better results."
   ]
  },
  {
   "cell_type": "markdown",
   "id": "34606cd0",
   "metadata": {},
   "source": [
    "### Section 4A: Neural Network Training"
   ]
  },
  {
   "cell_type": "code",
   "execution_count": 108,
   "id": "3b5b2f41",
   "metadata": {},
   "outputs": [],
   "source": [
    "import tensorflow as tf\n",
    "from tensorflow import keras\n",
    "\n",
    "from keras import models\n",
    "from keras import layers\n",
    "\n",
    "import numpy as np"
   ]
  },
  {
   "cell_type": "code",
   "execution_count": 109,
   "id": "5921b386",
   "metadata": {},
   "outputs": [],
   "source": [
    "#Create a copy of the Titanic Training data so that it can be flattened without affecting the original data\n",
    "titanic_train_flat = titanic_train_cleaned.copy()"
   ]
  },
  {
   "cell_type": "code",
   "execution_count": 110,
   "id": "c82d9053",
   "metadata": {},
   "outputs": [],
   "source": [
    "#Define the Neural Network Build function\n",
    "#This function creates a Deep Sequential neural network with a Flattening layer, two Dense (Fully-connected) layers,\n",
    "#and a final decision layer using the sigmoid activation function\n",
    "def create_neural_net():\n",
    "    model_nn = models.Sequential()\n",
    "    model_nn.add(layers.Flatten())\n",
    "    model_nn.add(layers.Dense(32, activation='relu'))\n",
    "    model_nn.add(layers.Dense(16, activation='relu'))\n",
    "    model_nn.add(layers.Dense(1, activation='sigmoid'))\n",
    "    \n",
    "    #Configure the network to use an RMSProp optimization function\n",
    "    #The network measures loss using Binary Cross-entropy\n",
    "    #The network measures its success in accuracy (ratio of correctly labeled data)\n",
    "    model_nn.compile(optimizer='rmsprop', loss='binary_crossentropy', \n",
    "              metrics=['accuracy'])\n",
    "    \n",
    "    return model_nn"
   ]
  },
  {
   "cell_type": "code",
   "execution_count": 112,
   "id": "f806a185",
   "metadata": {},
   "outputs": [],
   "source": [
    "titanic_nn = create_neural_net()"
   ]
  },
  {
   "cell_type": "code",
   "execution_count": 114,
   "id": "01b1c672",
   "metadata": {},
   "outputs": [
    {
     "name": "stdout",
     "output_type": "stream",
     "text": [
      "Final epoch training loss: 0.443238\n",
      "Final epoch validation loss: 0.408258\n",
      "Final epoch accuracy: 0.814259\n"
     ]
    }
   ],
   "source": [
    "#Train the Neural Network using the training data and validate it with a validation split of 25%\n",
    "#The history object stores loss and accuracy for every epoch\n",
    "history = titanic_nn.fit(titanic_train_flat, train_labels, epochs=20,\n",
    "                   batch_size=32, validation_split=0.25, verbose=0)\n",
    "\n",
    "#Get the stored array values in the History object\n",
    "history_dict = history.history\n",
    "loss_values = history_dict['loss'] #Training loss at each epoch\n",
    "val_loss_values = history_dict['val_loss'] #Validation loss at each epoch\n",
    "acc_values = history_dict['accuracy'] #Accuracy at each epoch\n",
    "\n",
    "#Get the final epoch values\n",
    "print(\"Final epoch training loss: \" + \"{:.6f}\".format(loss_values[len(loss_values)-1]))\n",
    "print(\"Final epoch validation loss: \" + \"{:.6f}\".format(val_loss_values[len(val_loss_values)-1]))\n",
    "print(\"Final epoch accuracy: \" + \"{:.6f}\".format(acc_values[len(acc_values)-1]))"
   ]
  },
  {
   "cell_type": "code",
   "execution_count": 115,
   "id": "3b1d5940",
   "metadata": {},
   "outputs": [
    {
     "data": {
      "image/png": "[encoded data removed]",
      "text/plain": [
       "<Figure size 432x288 with 1 Axes>"
      ]
     },
     "metadata": {
      "needs_background": "light"
     },
     "output_type": "display_data"
    }
   ],
   "source": [
    "#Create a plot that maps the training and validation loss per epoch\n",
    "\n",
    "#Plot the training and validation loss at each epoch\n",
    "epochs = range(1, len(acc_values) + 1)\n",
    "\n",
    "plt.plot(epochs, loss_values, 'bo', label='Training loss')\n",
    "plt.plot(epochs, val_loss_values, 'b', label=\"Validation loss\")\n",
    "plt.title('Training and Validation Loss')\n",
    "plt.xlabel('Epochs')\n",
    "plt.ylabel('Loss')\n",
    "plt.legend()\n",
    "\n",
    "plt.show()"
   ]
  },
  {
   "cell_type": "markdown",
   "id": "552757e8",
   "metadata": {},
   "source": [
    "The graph above gives us a rough idea of where the algorithm peaks in its epochs of training. The best epoch and score are explicitly stated below."
   ]
  },
  {
   "cell_type": "code",
   "execution_count": 116,
   "id": "a9bafc58",
   "metadata": {},
   "outputs": [
    {
     "name": "stdout",
     "output_type": "stream",
     "text": [
      "The best epoch was 19 with a score of: 0.814259\n"
     ]
    }
   ],
   "source": [
    "#Get the best epoch accuracy score\n",
    "best_epoch_index = np.argmax(history.history['accuracy'])\n",
    "best_epoch_score = history.history['accuracy'][best_epoch_index]\n",
    "\n",
    "print(\"The best epoch was \" + str(best_epoch_index) + \" with a score of: \" + \"{:.6f}\".format(best_epoch_score))"
   ]
  },
  {
   "cell_type": "markdown",
   "id": "b715046c",
   "metadata": {},
   "source": [
    "___\n",
    "### Section 4B: Neural Network Hyperparameter Tuning\n",
    "\n",
    "In the section below, the KerasClassifier Wrapper Class is used to create a Neural Network\n",
    "estimator that can have its hyperparameters tuned using scikit-learn's built-in methods."
   ]
  },
  {
   "cell_type": "code",
   "execution_count": 117,
   "id": "ea509d9f",
   "metadata": {},
   "outputs": [],
   "source": [
    "from keras.wrappers.scikit_learn import KerasClassifier\n",
    "\n",
    "\n",
    "titanic_nn_wrapped = KerasClassifier(build_fn=create_neural_net, verbose=0)"
   ]
  },
  {
   "cell_type": "code",
   "execution_count": 118,
   "id": "70f1d47d",
   "metadata": {},
   "outputs": [
    {
     "name": "stdout",
     "output_type": "stream",
     "text": [
      "The best parameters for the neural network are: \n",
      "{'batch_size': 12, 'epochs': 20}\n"
     ]
    }
   ],
   "source": [
    "#Investigate the best hyperparameter values to the neural network using GridSearch\n",
    "batch_sizes = [12, 24, 32]\n",
    "epochs = [5, 10, 20]\n",
    "\n",
    "param_dict = dict(batch_size=batch_sizes, epochs=epochs)\n",
    "\n",
    "titanic_nn_grid = GridSearchCV(estimator=titanic_nn_wrapped, param_grid=param_dict, cv=5, scoring='accuracy', n_jobs=1)\n",
    "titanic_nn_grid.fit(titanic_train_flat, train_labels)\n",
    "\n",
    "nn_best_params = titanic_nn_grid.best_params_\n",
    "\n",
    "print(\"The best parameters for the neural network are: \")\n",
    "print(nn_best_params)"
   ]
  },
  {
   "cell_type": "code",
   "execution_count": 119,
   "id": "26da3323",
   "metadata": {},
   "outputs": [
    {
     "name": "stdout",
     "output_type": "stream",
     "text": [
      "For the Hyperparameter tuned neural network, \n",
      "The best epoch was 15 with a score of: 0.808630\n"
     ]
    }
   ],
   "source": [
    "#Create a neural network using the \n",
    "titanic_nn_tuned = create_neural_net()\n",
    "\n",
    "history = titanic_nn_tuned.fit(titanic_train_flat, train_labels, epochs=nn_best_params['epochs'],\n",
    "                   batch_size=nn_best_params['batch_size'], validation_split=0.25, verbose=0)\n",
    "\n",
    "#Get the best epoch accuracy score for the tuned neural network\n",
    "best_epoch_index = np.argmax(history.history['accuracy'])\n",
    "best_epoch_score = history.history['accuracy'][best_epoch_index]\n",
    "\n",
    "print(\"For the Hyperparameter tuned neural network, \")\n",
    "print(\"The best epoch was \" + str(best_epoch_index) + \" with a score of: \" + \"{:.6f}\".format(best_epoch_score))"
   ]
  },
  {
   "cell_type": "markdown",
   "id": "5e37098e",
   "metadata": {},
   "source": [
    "### Section 4C: Neural Network Test Performance\n",
    "\n",
    "Below, both neural networks are evaluated for their accuracy on the test set."
   ]
  },
  {
   "cell_type": "code",
   "execution_count": 120,
   "id": "d18e1dfa",
   "metadata": {},
   "outputs": [
    {
     "name": "stdout",
     "output_type": "stream",
     "text": [
      "6/6 [==============================] - 0s 2ms/step - loss: 0.4010 - accuracy: 0.8315\n",
      "Neural Network Test Score 0.831461\n"
     ]
    }
   ],
   "source": [
    "#Compute the test accuracy of the neural network\n",
    "network_results = titanic_nn.evaluate(titanic_test_cleaned, test_labels)\n",
    "print(\"Neural Network Test Score \" + \"{:.6f}\".format(network_results[1]))"
   ]
  },
  {
   "cell_type": "code",
   "execution_count": 121,
   "id": "f7625904",
   "metadata": {},
   "outputs": [
    {
     "name": "stdout",
     "output_type": "stream",
     "text": [
      "6/6 [==============================] - 0s 2ms/step - loss: 0.4011 - accuracy: 0.8146\n",
      "Hyper Parameter Tuned Neural Network Test Score 0.814607\n"
     ]
    }
   ],
   "source": [
    "#Compute the test accuracy of the neural network\n",
    "results = titanic_nn_tuned.evaluate(titanic_test_cleaned, test_labels)\n",
    "print(\"Hyper Parameter Tuned Neural Network Test Score \" + \"{:.6f}\".format(results[1]))"
   ]
  },
  {
   "cell_type": "markdown",
   "id": "da009c8a",
   "metadata": {},
   "source": [
    "___\n",
    "___\n",
    "## Section 5: Experiments in Clustering\n",
    "\n",
    "In this section I attempt to use clustering techniques to improve the performance of a few classifiers to see if any new trends could be discovered. This was done in an attempt to see if the clustering as preprocessing had any major effects.\n",
    "\n",
    "A Grid_Search for an optimal number of initial clusters is used for the k_means classifier."
   ]
  },
  {
   "cell_type": "code",
   "execution_count": 85,
   "id": "7c41dddc",
   "metadata": {},
   "outputs": [],
   "source": [
    "from sklearn.cluster import KMeans\n",
    "\n",
    "kmeans = KMeans(n_clusters=4, random_state=10)"
   ]
  },
  {
   "cell_type": "code",
   "execution_count": 155,
   "id": "d5a7381d",
   "metadata": {},
   "outputs": [
    {
     "name": "stdout",
     "output_type": "stream",
     "text": [
      "The best cluster size for Kmeans is: 2\n"
     ]
    }
   ],
   "source": [
    "#Create a pipeline using KMeans clustering and Gaussian NB for classification\n",
    "\n",
    "num_clusters = range(2,10)\n",
    "param_grid = dict(kmeans__n_clusters=num_clusters)\n",
    "\n",
    "#Create a Pipeline that applies KMeans to the dataset and then runs Gaussian NB for classification\n",
    "gaussian_cluster_pipeline = Pipeline([\n",
    "    (\"kmeans\", kmeans),\n",
    "    (\"gaussian\", gaussian_nb_clf)\n",
    "])\n",
    "\n",
    "gaussian_cluster_grid = GridSearchCV(gaussian_cluster_pipeline, param_grid, verbose=0)\n",
    "gaussian_cluster_grid.fit(titanic_train_cleaned, train_labels)\n",
    "print(\"The best cluster size for Kmeans is: \" + str(gaussian_cluster_grid.best_params_['kmeans__n_clusters']))\n",
    "\n",
    "gaussian_cluster_clf = gaussian_cluster_grid.best_estimator_"
   ]
  },
  {
   "cell_type": "code",
   "execution_count": 156,
   "id": "c761a791",
   "metadata": {},
   "outputs": [
    {
     "name": "stdout",
     "output_type": "stream",
     "text": [
      "The best cluster size for Kmeans is: 4\n"
     ]
    }
   ],
   "source": [
    "#Create a pipeline using KMeans clustering and a Random Forest for classification\n",
    "\n",
    "forest_cluster_pipeline = Pipeline([\n",
    "    (\"kmeans\", kmeans),\n",
    "    (\"forest\", forest_tuned_clf)\n",
    "])\n",
    "\n",
    "forest_cluster_grid = GridSearchCV(forest_cluster_pipeline, param_grid, verbose=0)\n",
    "forest_cluster_grid.fit(titanic_train_cleaned, train_labels)\n",
    "print(\"The best cluster size for Kmeans is: \" + str(forest_cluster_grid.best_params_['kmeans__n_clusters']))\n",
    "\n",
    "forest_cluster_clf = forest_cluster_grid.best_estimator_"
   ]
  },
  {
   "cell_type": "code",
   "execution_count": 157,
   "id": "d4c20558",
   "metadata": {},
   "outputs": [],
   "source": [
    "#Run each of these classifiers on the test data\n",
    "gaussian_cluster_test_score = cross_val_score(gaussian_cluster_clf, titanic_test_cleaned, \n",
    "                                    test_labels, scoring=\"accuracy\").mean()\n",
    "\n",
    "forest_cluster_test_score = cross_val_score(forest_cluster_clf, titanic_test_cleaned, \n",
    "                                    test_labels, scoring=\"accuracy\").mean()"
   ]
  },
  {
   "cell_type": "markdown",
   "id": "22baa63a",
   "metadata": {},
   "source": [
    "### Comparing Performance Metrics\n",
    "\n",
    "Below, the compared performance of the Gaussian NB and Random Forest Classifier on the training and test sets with and without clustering as preprocessing is compared."
   ]
  },
  {
   "cell_type": "code",
   "execution_count": 158,
   "id": "fd056927",
   "metadata": {},
   "outputs": [
    {
     "name": "stdout",
     "output_type": "stream",
     "text": [
      "Gaussian Naive Bayes without clustering validation score: 0.759470\n",
      "Gaussian Naive Bayes with clustering validation score: 0.777741\n",
      "Gaussian Naive Bayes without clustering test score: 0.826190\n",
      "Gaussian Naive Bayes with clustering test score: 0.775556\n"
     ]
    }
   ],
   "source": [
    "print(\"Gaussian Naive Bayes without clustering validation score: \" + \"{:.6f}\".format(gaussian_nb_pred_score))\n",
    "print(\"Gaussian Naive Bayes with clustering validation score: \" + \"{:.6f}\".format(gaussian_cluster.best_score_))\n",
    "\n",
    "print(\"Gaussian Naive Bayes without clustering test score: \" + \"{:.6f}\".format(gaussian_nb_test_score))\n",
    "print(\"Gaussian Naive Bayes with clustering test score: \" + \"{:.6f}\".format(gaussian_cluster_test_score))"
   ]
  },
  {
   "cell_type": "code",
   "execution_count": 159,
   "id": "f2e2ee93",
   "metadata": {},
   "outputs": [
    {
     "name": "stdout",
     "output_type": "stream",
     "text": [
      "Random Forest without clustering validation score: 0.825626\n",
      "Random Forest with clustering validation score: 0.790456\n",
      "Random Forest without clustering test score: 0.775556\n",
      "Random Forest with clustering test score: 0.758730\n"
     ]
    }
   ],
   "source": [
    "print(\"Random Forest without clustering validation score: \" + \"{:.6f}\".format(forest_tuned_pred_score))\n",
    "print(\"Random Forest with clustering validation score: \" + \"{:.6f}\".format(forest_cluster.best_score_))\n",
    "\n",
    "print(\"Random Forest without clustering test score: \" + \"{:.6f}\".format(forest_tuned_test_score))\n",
    "print(\"Random Forest with clustering test score: \" + \"{:.6f}\".format(forest_cluster_test_score))"
   ]
  },
  {
   "cell_type": "markdown",
   "id": "6a96e469",
   "metadata": {},
   "source": [
    "### Reflections\n",
    "\n",
    "Based on the performance scores produced above, it seems that clustering doesn't seem to have be overly beneficial as pre-processing for the Titanic dataset.\n",
    "\n",
    "A significant performance improvement can be seen for Gaussian Naive Bayes on the training set with valdiation, but this severely drops in testing.\n",
    "\n",
    "The Random Forest with clustering seems to perform significantly worse, perhaps not having as clear a separation for instances with the increased number of clusters.\n",
    "\n",
    "Overall, it seems that splitting the dataset into more than 2 clusters for the set of features available doesn't have any noticible improvement for performance. Below I decided to show the average testing scores for the various number of clusters selected in the GridSearch to see how it affects accuracy for a larger number of clusters."
   ]
  },
  {
   "cell_type": "code",
   "execution_count": 162,
   "id": "b67ea471",
   "metadata": {},
   "outputs": [
    {
     "data": {
      "image/png": "[encoded data removed]",
      "text/plain": [
       "<Figure size 432x288 with 1 Axes>"
      ]
     },
     "metadata": {
      "needs_background": "light"
     },
     "output_type": "display_data"
    }
   ],
   "source": [
    "#Create a plot to show how the accuracy fluctuates with the number of clusters chosen for pre-processing\n",
    "\n",
    "#Get the mean score for each n_clusters value used in the range provided earlier (2-10)\n",
    "gaussian_cluster_mean_scores = gaussian_cluster_grid.cv_results_['mean_test_score']\n",
    "forest_cluster_mean_scores = forest_cluster_grid.cv_results_['mean_test_score']\n",
    "\n",
    "plt.plot(num_clusters, gaussian_cluster_mean_scores, 'r', label='Guassian Accuracy')\n",
    "plt.plot(num_clusters, forest_cluster_mean_scores, 'b', label=\"Forest Accuracy\")\n",
    "plt.title('Gaussian and Forest Clustering Accuracy by Num Clusters')\n",
    "plt.xlabel('Number of Clusters')\n",
    "plt.ylabel('Accuracy')\n",
    "plt.legend()\n",
    "\n",
    "plt.show()"
   ]
  },
  {
   "cell_type": "markdown",
   "id": "569346f9",
   "metadata": {},
   "source": [
    "## Section 6: Generating True Test Predictions\n",
    "\n",
    "Finally, I decided to generate label predictions for the actual test data from the Kaggle competition.\n",
    "\n",
    "I submitted predictions from the Gradient Boosted Classification Tree, Gaussian NB Classifier, and the hyperparameter-tuned Neural Network."
   ]
  },
  {
   "cell_type": "code",
   "execution_count": 18,
   "id": "0fe3b8fb",
   "metadata": {},
   "outputs": [
    {
     "name": "stdout",
     "output_type": "stream",
     "text": [
      "<class 'pandas.core.frame.DataFrame'>\n",
      "RangeIndex: 418 entries, 0 to 417\n",
      "Data columns (total 11 columns):\n",
      " #   Column       Non-Null Count  Dtype  \n",
      "---  ------       --------------  -----  \n",
      " 0   PassengerId  418 non-null    int64  \n",
      " 1   Pclass       418 non-null    int64  \n",
      " 2   Name         418 non-null    object \n",
      " 3   Sex          418 non-null    object \n",
      " 4   Age          332 non-null    float64\n",
      " 5   SibSp        418 non-null    int64  \n",
      " 6   Parch        418 non-null    int64  \n",
      " 7   Ticket       418 non-null    object \n",
      " 8   Fare         417 non-null    float64\n",
      " 9   Cabin        91 non-null     object \n",
      " 10  Embarked     418 non-null    object \n",
      "dtypes: float64(2), int64(4), object(5)\n",
      "memory usage: 36.0+ KB\n"
     ]
    }
   ],
   "source": [
    "#Read in the full set of training data\n",
    "titanic_test_ds_full = pd.read_csv('./datasets/test.csv')\n",
    "titanic_test_ds_full.info()"
   ]
  },
  {
   "cell_type": "code",
   "execution_count": 78,
   "id": "8ab0982d",
   "metadata": {},
   "outputs": [],
   "source": [
    "#Clean the test set before generating predictions\n",
    "titanic_test_ds_cleaned = titanic_test_ds_full.copy()\n",
    "\n",
    "#Remove the one missing attributes\n",
    "titanic_test_ds_cleaned = titanic_test_ds_cleaned.drop(['Name', 'PassengerId', 'Ticket'], axis=1)\n",
    "\n",
    "#Map cabin values s.t. not having a cabin == 0 (False) and having a cabin == 1 (True)\n",
    "titanic_test_ds_cleaned['Cabin']= np.where(titanic_test_ds_cleaned['Cabin'].isnull(), 0, 1)\n",
    "\n",
    "titanic_test_ds_cleaned = data_pipeline.fit_transform(titanic_test_ds_cleaned)"
   ]
  },
  {
   "cell_type": "code",
   "execution_count": 104,
   "id": "77e7ef48",
   "metadata": {},
   "outputs": [],
   "source": [
    "import csv\n",
    "\n",
    "#Isolate the passenger IDs from the Test dataset\n",
    "passenger_ids = titanic_test_ds_full.PassengerId\n",
    "\n",
    "#Function to create the csv of Survival predictions for submission\n",
    "def write_predictions(passenger_predictions, filename='predictions.csv'):\n",
    "    with open(filename, 'w') as fp:\n",
    "        pred_writer = csv.writer(fp)\n",
    "        pred_writer.writerow(['PassengerId', 'Survived'])\n",
    "        pred_writer.writerows(passenger_predictions)"
   ]
  },
  {
   "cell_type": "markdown",
   "id": "27d11ad2",
   "metadata": {},
   "source": [
    "___\n",
    "### SECTION 6B: Classifier Performance\n",
    "\n",
    "In this section, predictions are generated for the three aforementioned classifiers. The performance of each classifier is shared towards the end as evaluated by the Kaggle competition."
   ]
  },
  {
   "cell_type": "markdown",
   "id": "850ec794",
   "metadata": {},
   "source": [
    "#### Gradient-Boosting Classification Tree"
   ]
  },
  {
   "cell_type": "code",
   "execution_count": 105,
   "id": "5443324b",
   "metadata": {},
   "outputs": [
    {
     "name": "stdout",
     "output_type": "stream",
     "text": [
      "First five predictions:\n",
      "892 0\n",
      "893 0\n",
      "894 0\n",
      "895 0\n",
      "896 0\n"
     ]
    }
   ],
   "source": [
    "#Make predictions on the dataset\n",
    "gb_tree_predictions = gb_tree_clf.predict(titanic_test_ds_cleaned)\n",
    "\n",
    "gb_tree_csv_predictions = []\n",
    "\n",
    "for p_id, prediction in zip(passenger_ids, gb_tree_predictions):\n",
    "    gb_tree_csv_predictions.append([p_id, prediction])\n",
    " \n",
    "print(\"First five predictions:\")\n",
    "for i in range(5):\n",
    "    print(gb_tree_csv_predictions[i][0], gb_tree_csv_predictions[i][1])\n",
    "\n",
    "write_predictions(gb_tree_csv_predictions, \"gradient_predictions.csv\")"
   ]
  },
  {
   "cell_type": "markdown",
   "id": "ce4afa90",
   "metadata": {},
   "source": [
    "#### Gaussian Naive Bayes"
   ]
  },
  {
   "cell_type": "code",
   "execution_count": 107,
   "id": "83542d7c",
   "metadata": {},
   "outputs": [
    {
     "name": "stdout",
     "output_type": "stream",
     "text": [
      "First five predictions:\n",
      "892 0\n",
      "893 1\n",
      "894 0\n",
      "895 0\n",
      "896 1\n"
     ]
    }
   ],
   "source": [
    "#Make predictions on the dataset\n",
    "gaussian_predictions = gaussian_nb_clf.predict(titanic_test_ds_cleaned)\n",
    "\n",
    "gaussian_csv_predictions = []\n",
    "\n",
    "for p_id, prediction in zip(passenger_ids, gaussian_predictions):\n",
    "    gaussian_csv_predictions.append([p_id, prediction])\n",
    "    \n",
    "print(\"First five predictions:\")\n",
    "for i in range(5):\n",
    "    print(gaussian_csv_predictions[i][0], gaussian_csv_predictions[i][1])\n",
    "    \n",
    "write_predictions(gaussian_csv_predictions, \"gaussian_predictions.csv\")"
   ]
  },
  {
   "cell_type": "markdown",
   "id": "0b6ff40e",
   "metadata": {},
   "source": [
    "#### Deep Neural Network"
   ]
  },
  {
   "cell_type": "code",
   "execution_count": 128,
   "id": "191cd7a0",
   "metadata": {},
   "outputs": [
    {
     "name": "stdout",
     "output_type": "stream",
     "text": [
      "First five predictions:\n",
      "892 0\n",
      "893 1\n",
      "894 0\n",
      "895 0\n",
      "896 0\n"
     ]
    }
   ],
   "source": [
    "#Make predictions on the dataset\n",
    "nn_predictions = titanic_nn_tuned.predict(titanic_test_ds_cleaned)\n",
    "\n",
    "nn_csv_predictions = []\n",
    "\n",
    "for p_id, prediction in zip(passenger_ids, nn_predictions):\n",
    "    \n",
    "    #Convert probabilities to classifications (>0.5 = 1, else 0)\n",
    "    if prediction > 0.5:\n",
    "        prediction = 1\n",
    "    else:\n",
    "        prediction = 0 \n",
    "    nn_csv_predictions.append([p_id, prediction])\n",
    "    \n",
    "print(\"First five predictions:\")\n",
    "for i in range(5):\n",
    "    print(nn_csv_predictions[i][0], nn_csv_predictions[i][1])\n",
    "    \n",
    "write_predictions(nn_csv_predictions, \"nn_predictions.csv\")"
   ]
  },
  {
   "cell_type": "markdown",
   "id": "fd7d6071",
   "metadata": {},
   "source": [
    "### Performance Reflections\n",
    "\n",
    "After submitting all three sets of predictions, the best performing entry was the Artificial Neural Network used with hyper-parameter tuning. The prediction scores are below:\n",
    "\n",
    "**Gradient Boosting Classification Tree:** 0.77033\n",
    "\n",
    "**Gaussian Naive-Bayes:** 0.73205\n",
    "\n",
    "**Deep Neural Network:** 0.77751\n",
    "\n",
    "All of these scores are lower than those produced on the training/validation sets and my own testing set. This could indicate that each classifier is prone to some overfitting."
   ]
  },
  {
   "cell_type": "markdown",
   "id": "2712995c",
   "metadata": {},
   "source": [
    "___\n",
    "### SECTION 6C: Final Experiment: Dropout\n",
    "\n",
    "Due to the possibility of overfitting in each of the classifiers used for the test set, I decided to conduct one final experiment to improve the test results. I created a new neural network using a Dropout layer and the best parameters decided in hyperparameter tuning from the Neural Network section earlier.\n",
    "\n",
    "I first fit and train this new network on the training data, and then my own testing data.\n",
    "\n",
    "At the end of this section I provide the Kaggle competition test performance score to see if this method had any noticeable improvement."
   ]
  },
  {
   "cell_type": "code",
   "execution_count": 141,
   "id": "5788a2e3",
   "metadata": {},
   "outputs": [],
   "source": [
    "#Define the Neural Network Build function\n",
    "#This function creates a Deep Sequential neural network with a Flattening layer, two Dense (Fully-connected) layers,\n",
    "#and a final decision layer using the sigmoid activation function\n",
    "def create_dropout_net():\n",
    "    model_nn = models.Sequential()\n",
    "    model_nn.add(layers.Flatten())\n",
    "    model_nn.add(layers.Dense(32, activation='relu'))\n",
    "    model_nn.add(layers.Dense(16, activation='relu'))\n",
    "    model_nn.add(layers.Dropout(0.5))\n",
    "    model_nn.add(layers.Dense(1, activation='sigmoid'))\n",
    "    \n",
    "    #Configure the network to use an RMSProp optimization function\n",
    "    #The network measures loss using Binary Cross-entropy\n",
    "    #The network measures its success in accuracy (ratio of correctly labeled data)\n",
    "    model_nn.compile(optimizer='rmsprop', loss='binary_crossentropy', \n",
    "              metrics=['accuracy'])\n",
    "    \n",
    "    return model_nn"
   ]
  },
  {
   "cell_type": "markdown",
   "id": "a6b261f6",
   "metadata": {},
   "source": [
    "<!-- Based on these classification distribtuions and the performance of each classifier, I would summize that the Gaussian NB classifier had poor performance due to being overly optimistic about the number of predicted survivors in -->"
   ]
  },
  {
   "cell_type": "code",
   "execution_count": 142,
   "id": "e42e9de8",
   "metadata": {},
   "outputs": [],
   "source": [
    "dropout_nn = create_dropout_net()"
   ]
  },
  {
   "cell_type": "code",
   "execution_count": 144,
   "id": "47bc8954",
   "metadata": {},
   "outputs": [
    {
     "name": "stdout",
     "output_type": "stream",
     "text": [
      "6/6 [==============================] - 0s 2ms/step - loss: 0.4077 - accuracy: 0.8258\n",
      "Neural Network with Dropout Test Score 0.825843\n"
     ]
    }
   ],
   "source": [
    "history = dropout_nn.fit(titanic_train_flat, train_labels, epochs=nn_best_params['epochs'],\n",
    "                   batch_size=nn_best_params['batch_size'], validation_split=0.25, verbose=0)\n",
    "\n",
    "results = dropout_nn.evaluate(titanic_test_cleaned, test_labels)\n",
    "print(\"Neural Network with Dropout Test Score \" + \"{:.6f}\".format(results[1]))"
   ]
  },
  {
   "cell_type": "code",
   "execution_count": 145,
   "id": "5e0db35b",
   "metadata": {},
   "outputs": [
    {
     "name": "stdout",
     "output_type": "stream",
     "text": [
      "First five predictions:\n",
      "892 0\n",
      "893 0\n",
      "894 0\n",
      "895 0\n",
      "896 0\n"
     ]
    }
   ],
   "source": [
    "#Make predictions on the dataset\n",
    "dropout_predictions = dropout_nn.predict(titanic_test_ds_cleaned)\n",
    "\n",
    "dropout_csv_predictions = []\n",
    "\n",
    "for p_id, prediction in zip(passenger_ids, dropout_predictions):\n",
    "    \n",
    "    #Convert probabilities to classifications (>0.5 = 1, else 0)\n",
    "    if prediction > 0.5:\n",
    "        prediction = 1\n",
    "    else:\n",
    "        prediction = 0 \n",
    "    dropout_csv_predictions.append([p_id, prediction])\n",
    "    \n",
    "print(\"First five predictions:\")\n",
    "for i in range(5):\n",
    "    print(dropout_csv_predictions[i][0], dropout_csv_predictions[i][1])\n",
    "    \n",
    "write_predictions(dropout_csv_predictions, \"dropout_predictions.csv\")"
   ]
  },
  {
   "cell_type": "markdown",
   "id": "212056bd",
   "metadata": {},
   "source": [
    "#### Reflections\n",
    "\n",
    "Unfortunately, the performance of this new neural network was only 0.77033 which is a slight fall from the original tuned neural network's performance.\n",
    "\n",
    "Overfitting could still be an issue due to the decreased performance compared to my own training and test sets, but it's likely that more significant improvements would require more hyperparameter tuning or different manipulations of the initial dataset's features."
   ]
  },
  {
   "cell_type": "markdown",
   "id": "50cc7e59",
   "metadata": {},
   "source": [
    "___\n",
    "___\n",
    "## SECTION 7: Concluding Thoughts\n",
    "\n",
    "Overall, this was a very assignment to play around with. I learned a lot about what scikit-learn and Keras have to offer for machine learning tasks, and I felt that I got a better understanding of some of the key performance metrics for various classifiers.\n",
    "\n",
    "My goal was to achieve 80% accuracy in the Kaggle competition, but I'm more than satisified with the performance of the classifiers I have now. Happy to have breached (at least for now) the top 5K submissions."
   ]
  },
  {
   "cell_type": "markdown",
   "id": "6eed5520",
   "metadata": {},
   "source": [
    "___\n",
    "___\n",
    "\n",
    "## SECTION 8: References + Extras\n",
    "\n",
    "#### References Used\n",
    "\n",
    "1. To complete this assignment, I made reference to the textbook linked below.\n",
    "https://www.oreilly.com/library/view/hands-on-machine-learning/9781491962282/\n",
    "\n",
    "I did not copy code directly from this textbook, but did follow examples from various chapters in-order to complete this assignment.\n",
    "\n",
    "\n",
    "2. I regularly referenced the websites:\n",
    "\n",
    "https://scikit-learn.org/stable/\n",
    "https://keras.io\n",
    "https://numpy.org/doc/stable/\n",
    "https://pandas.pydata.org/docs/\n",
    "\n",
    "Again, in some cases I follow"
   ]
  },
  {
   "attachments": {
    "PredictionsLB.png": {
     "image/png": "[encoded data removed]"
    }
   },
   "cell_type": "markdown",
   "id": "1248820f",
   "metadata": {},
   "source": [
    "![PredictionsLB.png](attachment:PredictionsLB.png)"
   ]
  },
  {
   "attachments": {
    "Predictions1.png": {
     "image/png": "[encoded data removed]"
    }
   },
   "cell_type": "markdown",
   "id": "dc5aecf9",
   "metadata": {},
   "source": [
    "![Predictions1.png](attachment:Predictions1.png)"
   ]
  },
  {
   "attachments": {
    "Predictions2.png": {
     "image/png": "[encoded data removed]"
    }
   },
   "cell_type": "markdown",
   "id": "b8cf38db",
   "metadata": {},
   "source": [
    "![Predictions2.png](attachment:Predictions2.png)"
   ]
  }
 ],
 "metadata": {
  "kernelspec": {
   "display_name": "Python 3 (ipykernel)",
   "language": "python",
   "name": "python3"
  },
  "language_info": {
   "codemirror_mode": {
    "name": "ipython",
    "version": 3
   },
   "file_extension": ".py",
   "mimetype": "text/x-python",
   "name": "python",
   "nbconvert_exporter": "python",
   "pygments_lexer": "ipython3",
   "version": "3.8.4"
  }
 },
 "nbformat": 4,
 "nbformat_minor": 5
}
